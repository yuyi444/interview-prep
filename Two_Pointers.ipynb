{
  "nbformat": 4,
  "nbformat_minor": 0,
  "metadata": {
    "colab": {
      "provenance": []
    },
    "kernelspec": {
      "name": "python3",
      "display_name": "Python 3"
    },
    "language_info": {
      "name": "python"
    }
  },
  "cells": [
    {
      "cell_type": "markdown",
      "source": [
        "#Two Pointers"
      ],
      "metadata": {
        "id": "ZGNrZzAblmIT"
      }
    },
    {
      "cell_type": "markdown",
      "source": [
        "##Rook"
      ],
      "metadata": {
        "id": "fgpf_dmSly9f"
      }
    },
    {
      "cell_type": "code",
      "execution_count": null,
      "metadata": {
        "id": "wNTXiEAjlXe3"
      },
      "outputs": [],
      "source": [
        "# Consider the challenge of identifying whether a given sequence of characters forms a palindrome, specifically after adjusting its format.\n",
        "# This involves firstly rendering all capital letters to their lowercase equivalents and secondly, discarding any characters that are neither part of the alphabet nor numerals.\n",
        "# Should the adjusted sequence mirror itself when reversed, it is recognized as a palindrome.\n",
        "\n",
        "# Given a string `s`, devise a function that determines whether this string qualifies as a palindrome under the conditions mentioned, returning `true` if it does, and `false` if otherwise.\n",
        "\n",
        "# Example 1:\n",
        "# Input: s = \"A man, a plan, a canal: Panama\"\n",
        "# Output: true\n",
        "# Explanation: Following adjustments, \"amanaplanacanalpanama\" presents a mirrored sequence.\n",
        "\n",
        "# Example 2:\n",
        "# Input: s = \"race a car\"\n",
        "# Output: false\n",
        "# Explanation: Post-adjustment, \"raceacar\" fails to exhibit symmetry.\n",
        "\n",
        "# Example 3:\n",
        "# Input: s = \" \"\n",
        "# Output: true\n",
        "# Explanation: Once non-alphanumeric characters are removed, `s` becomes an empty string \"\", which inherently meets the criteria of a palindrome.\n",
        "\n",
        "# Constraints:\n",
        "# - The string `s` length will range from 1 to 200,000 characters.\n",
        "# - `s` will only comprise printable ASCII characters.\n",
        "\n",
        "def isPalindrome(s):\n",
        "\n"
      ]
    },
    {
      "cell_type": "code",
      "source": [
        "# Imagine you have a long piece of text ('haystack') and you are looking for a specific smaller string ('needle') within it.\n",
        "# Your task is to determine where in the text the smaller string first shows up.\n",
        "# You should output the starting position of the first occurrence of the 'needle' in the 'haystack'.\n",
        "# Should the 'needle' not be found within the 'haystack', your program must return -1, indicating its absence.\n",
        "\n",
        "# Example 1:\n",
        "# Input: haystack = \"sadbutsad\", needle = \"sad\"\n",
        "# Output: 0\n",
        "# Explanation: The substring \"sad\" is first found at the start of the \"haystack\", thus the output is 0.\n",
        "\n",
        "# Example 2:\n",
        "# Input: haystack = \"helloworld\", needle = \"123\"\n",
        "# Output: -1\n",
        "# Explanation: Since \"123\" is not present in \"helloworld\", we return -1.\n",
        "\n",
        "# Constraints:\n",
        "# The length of both 'haystack' and 'needle' will be between 1 and 10^4, inclusive.\n",
        "# Both 'haystack' and 'needle' will contain only lowercase English letters.\n",
        "\n",
        "def findSubstringStart(haystack, needle):\n",
        "\n"
      ],
      "metadata": {
        "id": "8awR3Dlol54C"
      },
      "execution_count": null,
      "outputs": []
    },
    {
      "cell_type": "code",
      "source": [
        "# In this problem, you are given a lowercase English letter string 's'.\n",
        "# The task is to determine whether it is possible to form a palindrome by eliminating no more than one character from 's'.\n",
        "# A palindrome is a word that reads the same backward as forward.\n",
        "# The input 's' consists only of lowercase English letters.\n",
        "# Your solution should return a boolean value, where 'true' indicates that the given string can be rearranged into a palindrome by deleting at most one character, and 'false' otherwise.\n",
        "\n",
        "# Example 1:\n",
        "# Input: s = \"aba\"\n",
        "# Output: true\n",
        "\n",
        "# Example 2:\n",
        "# Input: s = \"abca\"\n",
        "# Output: true\n",
        "# Explanation: By removing the character 'c', the string becomes a palindrome.\n",
        "\n",
        "# Example 3:\n",
        "# Input: s = \"abc\"\n",
        "# Output: false\n",
        "# Explanation: There is no way to delete a single character to make 'abc' a palindrome.\n",
        "\n",
        "# Constraints:\n",
        "# The length of the string 's' is at least 1 and at most 10^5.\n",
        "# Each character in the string 's' is a lowercase English letter.\n",
        "\n",
        "def nearlyPerfect(s):\n",
        "\n"
      ],
      "metadata": {
        "id": "P_s4MgF3l-AM"
      },
      "execution_count": null,
      "outputs": []
    },
    {
      "cell_type": "markdown",
      "source": [
        "##Intern"
      ],
      "metadata": {
        "id": "4cZ2qh2nmHLV"
      }
    },
    {
      "cell_type": "code",
      "source": [
        "# Imagine you're given a list of numbers, called 'numbers', which is sorted in ascending order, and you're asked to find a pair of numbers in this list that together sum up to a specific value, called 'target'.\n",
        "# Your mission is to discover the positions of these two numbers, acknowledging that the first number's position must be less than the second number's position and you cannot use the same number twice.\n",
        "# Once found, return the positions of these two numbers as a list, where the positions are adjusted to be one-based (meaning, add 1 to each index for the output).\n",
        "# Remember, there's guaranteed to be exactly one such pair that sums up to the 'target', and your solution should not utilize extra space beyond constant variables.\n",
        "\n",
        "# Example 1:\n",
        "# Input: numbers = [2,7,11,15], target = 9\n",
        "# Output: [1,2]\n",
        "# Explanation: The sum of 2 and 7 equals the target value of 9.\n",
        "# The positions of 2 and 7 in the input list are 1 and 2, respectively.\n",
        "\n",
        "# Example 2:\n",
        "# Input: numbers = [2,3,4], target = 6\n",
        "# Output: [1,3]\n",
        "# Explanation: 2 plus 4 equals the target value of 6.\n",
        "# The positions of 2 and 4 in the list are 1 and 3, respectively.\n",
        "\n",
        "# Example 3:\n",
        "# Input: numbers = [-1,0], target = -1\n",
        "# Output: [1,2]\n",
        "# Explanation: -1 added to 0 equals the target value of -1.\n",
        "# The positions of -1 and 0 in the list are 1 and 2, correspondingly.\n",
        "\n",
        "# Constraints:\n",
        "# The length of 'numbers' ranges from 2 to 30,000.\n",
        "# Each element in 'numbers' is between -1000 and 1000.\n",
        "# The list 'numbers' is sorted in non-decreasing order.\n",
        "# The 'target' value is between -1000 and 1000.\n",
        "# There is exactly one unique solution for each input.\n",
        "\n",
        "def sum_pair_finder(numbers, target):\n",
        "\n"
      ],
      "metadata": {
        "id": "zEd-ya8GmJli"
      },
      "execution_count": null,
      "outputs": []
    },
    {
      "cell_type": "code",
      "source": [
        "# Imagine you are an engineer tasked with designing the optimal water storage system using a series of panels placed vertically in a line, each of varying heights but fixed widths.\n",
        "# The system must utilize two of these panels to form the sides of a container, with the aim to maximize the volume of water the container can hold when filled.\n",
        "# The container's width is defined by the distance between the two panels, and its height by the shorter of the two panels, as water would overflow from the shorter side.\n",
        "# Your challenge is to determine the maximum volume of water that can be contained within such a setup without tilting the container.\n",
        "\n",
        "# Example 1:\n",
        "# Input: height = [1,8,6,2,5,4,8,3,7]\n",
        "# Output: 49\n",
        "# Explanation: Out of all possible pairings, the panels at indexes 1 and 8 (considering a 1-based index) form a container that holds the maximum volume of 49 units of water.\n",
        "\n",
        "# Example 2:\n",
        "# Input: height = [1,1]\n",
        "# Output: 1\n",
        "\n",
        "# Constraints:\n",
        "# The number of panels, referred to as 'n', will be an integer within the range 2 <= n <= 10^5.\n",
        "# Each panel's height will be an integer between 0 and 10^4.\n",
        "\n",
        "def maxWaterVolume(height):\n",
        "\n"
      ],
      "metadata": {
        "id": "Gz3wGclxmK5P"
      },
      "execution_count": null,
      "outputs": []
    },
    {
      "cell_type": "code",
      "source": [
        "# You are provided with an array of integers, named 'nums'.\n",
        "# Your task is to find all unique combinations of three numbers within this array that sum up to zero, with the condition that the indexes of these numbers must be distinct.\n",
        "# Each combination should be returned as a list, with your final answer being a list of these lists.\n",
        "# Ensure that there are no repeated combinations in your final answer, even if the same numbers occur more than once in the original array.\n",
        "\n",
        "# Example 1:\n",
        "# Input: nums = [-1,0,1,2,-1,-4]\n",
        "# Output: [[-1,-1,2],[-1,0,1]]\n",
        "# Explanation: There are two unique combinations that sum to zero, disregarding the order of numbers within the combinations.\n",
        "\n",
        "# Example 2:\n",
        "# Input: nums = [0,1,1]\n",
        "# Output: []\n",
        "# Explanation: There are no three numbers in this array that can sum to zero.\n",
        "\n",
        "# Example 3:\n",
        "# Input: nums = [0,0,0]\n",
        "# Output: [[0,0,0]]\n",
        "# Explanation: The only combination that sums to zero is three zeros.\n",
        "\n",
        "# Constraints:\n",
        "# The length of the array 'nums' is between 3 and 3000, inclusive.\n",
        "# Each integer in 'nums' will be within the range from -10^5 to 10^5.\n",
        "\n",
        "def findZeroSumTriples(nums):\n"
      ],
      "metadata": {
        "id": "6zJGVA7mmK_u"
      },
      "execution_count": null,
      "outputs": []
    },
    {
      "cell_type": "code",
      "source": [
        "# Imagine you're looking at a side view of terrain represented as a series of blocks with varying heights, each block being exactly 1 unit wide.\n",
        "# Your task is to calculate the maximum volume of rainwater that could be collected between the blocks after a heavy rain.\n",
        "# The heights of the blocks are given as a series of non-negative integers.\n",
        "\n",
        "# Example 1:\n",
        "# Input: height = [0,1,0,2,1,0,1,3,2,1,2,1]\n",
        "# Output: 6\n",
        "# Explanation: Given this configuration of block heights, a total of 6 units of water can be trapped between the blocks.\n",
        "\n",
        "# Example 2:\n",
        "# Input: height = [4,2,0,3,2,5]\n",
        "# Output: 9\n",
        "# Explanation: In this scenario, the blocks can trap 9 units of rainwater in total.\n",
        "\n",
        "# Constraints:\n",
        "# - The number of blocks (n) is equal to the length of the height array.\n",
        "# - 1 <= n <= 2 * 10^4\n",
        "# - Each block's height is a non-negative integer not exceeding 10^5.\n",
        "\n",
        "def calculate_rainwater(height):\n",
        "\n"
      ],
      "metadata": {
        "id": "Bf6P_ObamSO1"
      },
      "execution_count": null,
      "outputs": []
    },
    {
      "cell_type": "markdown",
      "source": [
        "##Pro"
      ],
      "metadata": {
        "id": "gieegTtXmZ1u"
      }
    },
    {
      "cell_type": "code",
      "source": [
        "# Consider a programming task where you are given an array of positive integers, referred to as 'nums', and another positive integer named 'target'.\n",
        "# Your objective is to determine the count of all possible non-empty subsequences derived from 'nums' where the sum of the smallest and largest numbers in any chosen subsequence does not exceed the 'target' value.\n",
        "# Given that the result may potentially reach a large value, it should be returned after being modulo divided by 10^9 + 7.\n",
        "\n",
        "# Example 1:\n",
        "# Input: nums = [3,5,6,7], target = 9\n",
        "# Output: 4\n",
        "# Explanation: There are 4 subsequences that fulfill the criteria.\n",
        "# [3] -> Min value + max value <= target (3 + 3 <= 9)\n",
        "# [3,5] -> (3 + 5 <= 9)\n",
        "# [3,5,6] -> (3 + 6 <= 9)\n",
        "# [3,6] -> (3 + 6 <= 9)\n",
        "\n",
        "# Example 2:\n",
        "# Input: nums = [3,3,6,8], target = 10\n",
        "# Output: 6\n",
        "# Explanation: Six subsequences meet the conditions, recognizing that the nums array may contain duplicates.\n",
        "\n",
        "# Example 3:\n",
        "# Input: nums = [2,3,3,4,6,7], target = 12\n",
        "# Output: 61\n",
        "# Explanation: From 63 total non-empty subsequences, two ([6,7], [7]) do not meet the criteria, leading to 61 valid subsequences.\n",
        "\n",
        "# Constraints:\n",
        "# The length of 'nums' is within the range [1, 10^5].\n",
        "# Each element in 'nums' as well as the 'target' value range from 1 to 10^6.\n",
        "\n",
        "def countValidSubsequences(nums, target):\n",
        "\n"
      ],
      "metadata": {
        "id": "HvVWC3yzmWXC"
      },
      "execution_count": null,
      "outputs": []
    },
    {
      "cell_type": "code",
      "source": [
        "# Given a collection of integers in an array named 'nums' and a numerical goal known as 'target', your task is to find all distinct quartets in the array that sum up to the target value.\n",
        "# Each quartet should consist of four unique integers [nums[a], nums[b], nums[c], nums[d]], ensuring that their positions a, b, c, and d within the array are distinct and their sum equals the target.\n",
        "# The output should be a list containing these unique quartets without any repetition and in any order.\n",
        "\n",
        "# Example 1:\n",
        "# Input: nums = [1,0,-1,0,-2,2], target = 0\n",
        "# Output: [[-2,-1,1,2],[-2,0,0,2],[-1,0,0,1]]\n",
        "\n",
        "# Example 2:\n",
        "# Input: nums = [2,2,2,2,2], target = 8\n",
        "# Output: [[2,2,2,2]]\n",
        "\n",
        "# Constraints:\n",
        "# The length of 'nums' is at least 1 and at most 200.\n",
        "# Each element in 'nums' and the 'target' can be any integer between -10^9 and 10^9.\n",
        "\n",
        "def uniqueQuadrupletFinder(nums, target):\n",
        "\n"
      ],
      "metadata": {
        "id": "1zpMfElumZZE"
      },
      "execution_count": null,
      "outputs": []
    }
  ]
}
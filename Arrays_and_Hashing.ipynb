{
  "nbformat": 4,
  "nbformat_minor": 0,
  "metadata": {
    "colab": {
      "provenance": []
    },
    "kernelspec": {
      "name": "python3",
      "display_name": "Python 3"
    },
    "language_info": {
      "name": "python"
    }
  },
  "cells": [
    {
      "cell_type": "markdown",
      "source": [
        "# Arrays and Hashing"
      ],
      "metadata": {
        "id": "40zbd2AthiMQ"
      }
    },
    {
      "cell_type": "markdown",
      "source": [
        "## Rook"
      ],
      "metadata": {
        "id": "2F_xzuVfhjVU"
      }
    },
    {
      "cell_type": "code",
      "execution_count": null,
      "metadata": {
        "id": "jHX4OhjchXvg"
      },
      "outputs": [],
      "source": [
        "# In a scenario where you're given a list of unique ID badges numbers 'nums' and a security checkpoint number 'target', your task is to find a pair of ID badges whose numbers sum up to the security checkpoint number.\n",
        "# You should return the indices of these ID badges assuming no ID badge is scanned twice and there exists exactly one unique pair that meets the criteria.\n",
        "# The order of indices in your result does not matter.\n",
        "\n",
        "# Example 1:\n",
        "# - Input: nums = [2, 7, 11, 15], target = 9\n",
        "# - Output: [0, 1]\n",
        "\n",
        "# Example 2:\n",
        "# - Input: nums = [3, 2, 4], target = 6\n",
        "# - Output: [1, 2]\n",
        "\n",
        "# Example 3:\n",
        "# - Input: nums = [3,3], target = 6\n",
        "# - Output: [0,1]\n",
        "\n",
        "# Constraints:\n",
        "# - The length of the list 'nums' will be at least 2 and no more than 10^4\n",
        "# - Each ID badge number will be an integer in the range from -10^9 to 10^9\n",
        "# - The security checkpoint number 'target' will also be an integer within the same range\n",
        "# - Assure only one valid pair exists that can be scanned to match the 'target' number\n",
        "\n",
        "def find_id_pair(nums, target):\n",
        "\n"
      ]
    },
    {
      "cell_type": "code",
      "source": [
        "# Determine if two provided words are anagrams of each other.\n",
        "# An anagram is defined as a word obtained by rearranging the letters of another word, using all the original letters exactly once.\n",
        "# For this verification, input consists of two strings: 's' representing the first word, and 't' for the second word.\n",
        "# The goal is to return true if 't' is an anagram of 's', otherwise, return false.\n",
        "\n",
        "# Example 1:\n",
        "# Input: s = \"anagram\", t = \"nagaram\"\n",
        "# Output: true\n",
        "\n",
        "# Example 2:\n",
        "# Input: s = \"rat\", t = \"car\"\n",
        "# Output: false\n",
        "\n",
        "# Constraints:\n",
        "# - The length of both strings 's' and 't' will be in the range of 1 to 50,000.\n",
        "# - Both strings will contain only lowercase English letters.\n",
        "\n",
        "def is_anagram(s, t):\n",
        "\n"
      ],
      "metadata": {
        "id": "p5XY_sAIhtos"
      },
      "execution_count": null,
      "outputs": []
    },
    {
      "cell_type": "code",
      "source": [
        "# In the context of evaluating an inventory list represented by an array of integers, your task is to determine whether any item (number) occurs more than once.\n",
        "# Your function should return true if at least one item is found in multiple instances, indicating a repeated entry in the inventory.\n",
        "# Conversely, if each item is unique and no duplicates are present, your function should return false.\n",
        "\n",
        "# Example 1:\n",
        "# Input: nums = [1,2,3,1]\n",
        "# Output: true\n",
        "\n",
        "# Example 2:\n",
        "# Input: nums = [1,2,3,4]\n",
        "# Output: false\n",
        "\n",
        "# Example 3:\n",
        "# Input: nums = [1,1,1,3,3,4,3,2,4,2]\n",
        "# Output: true\n",
        "\n",
        "# Constraints:\n",
        "# The number of items in the inventory (array length) ranges from 1 to 10^5.\n",
        "# Each item's identifier (integer value) can be between -10^9 and 10^9.\n",
        "\n",
        "def duplicate_finder(nums):\n",
        "\n"
      ],
      "metadata": {
        "id": "mwbtJT7Shy4a"
      },
      "execution_count": null,
      "outputs": []
    },
    {
      "cell_type": "code",
      "source": [
        "# In this task, you are required to generate a new array that is twice the length of an initial integer array 'nums' with a length of 'n'.\n",
        "# The new array, dubbed 'ans', should be constructed such that the first half of 'ans' directly replicates the 'nums' array, and the second half is a repetition of the first, thereby doubling the sequence.\n",
        "# Essentially, for each element with index 'i' in 'nums', 'ans[i] = nums[i]' and 'ans[i + n] = nums[i]', with 'i' ranging from 0 to 'n-1'.\n",
        "\n",
        "# Your objective is to return the array 'ans' thus obtained.\n",
        "\n",
        "# Example 1:\n",
        "# Input: nums = [1,2,1]\n",
        "# Output: [1,2,1,1,2,1]\n",
        "# Explanation: The resulting 'ans' array combines 'nums' with itself, yielding [1,2,1,1,2,1].\n",
        "\n",
        "# Example 2:\n",
        "# Input: nums = [1,3,2,1]\n",
        "# Output: [1,3,2,1,1,3,2,1]\n",
        "# Explanation: Similarly, the 'ans' array is formed by concatenating 'nums' with itself, resulting in [1,3,2,1,1,3,2,1].\n",
        "\n",
        "# Constraints:\n",
        "# - The length of 'nums' ('n') is guaranteed to be between 1 and 1000, inclusive.\n",
        "# - Each element in 'nums' can be any integer between 1 and 1000, inclusive.\n",
        "\n",
        "def generateDoubleSequence(nums):\n",
        "\n"
      ],
      "metadata": {
        "id": "QyEvjJbBh6hw"
      },
      "execution_count": null,
      "outputs": []
    },
    {
      "cell_type": "code",
      "source": [
        "# In a sequence of numbers, a pair of elements is considered 'identical' if both elements have the same value and the first element's index is less than the second element's index.\n",
        "# Your task is to write a program that counts the number of such identical pairs within a given sequence of numbers, represented by an array 'nums'.\n",
        "\n",
        "# Example 1:\n",
        "# Input: nums = [1,2,3,1,1,3]\n",
        "# Output: 4\n",
        "# Explanation: The identical pairs are (0,3), (0,4), (3,4), and (2,5), using 0-based indexing.\n",
        "\n",
        "# Example 2:\n",
        "# Input: nums = [1,1,1,1]\n",
        "# Output: 6\n",
        "# Explanation: Every pair in this sequence is identical.\n",
        "\n",
        "# Example 3:\n",
        "# Input: nums = [1,2,3]\n",
        "# Output: 0\n",
        "\n",
        "# Constraints:\n",
        "# The length of the array 'nums' is between 1 and 100, inclusive.\n",
        "# Each element in 'nums' is an integer between 1 and 100.\n",
        "\n",
        "def countIdenticalPairs(nums):\n",
        "\n"
      ],
      "metadata": {
        "id": "7vQkiw7qh7W9"
      },
      "execution_count": null,
      "outputs": []
    },
    {
      "cell_type": "code",
      "source": [
        "# Consider two textual sequences represented by strings 's' and 't'.\n",
        "# Your task is to ascertain whether 's' can be derived from 't' through the omission of some characters, without altering the sequential order of the remaining characters.\n",
        "# In other words, determine if 's' stands as a subsequence of 't'.\n",
        "# The term 'subsequence' signifies a sequence that can be derived from another sequence by deleting certain elements without changing the order of the remaining elements.\n",
        "\n",
        "# Example 1:\n",
        "# Input: s = \"abc\", t = \"ahbgdc\"\n",
        "# Output: true\n",
        "# Explanation: By removing 'h', 'b', 'g', and 'd' from \"ahbgdc\", the string \"abc\" is obtained, which maintains the relative positioning, hence 's' is a subsequence of 't'.\n",
        "\n",
        "# Example 2:\n",
        "# Input: s = \"axc\", t = \"ahbgdc\"\n",
        "# Output: false\n",
        "# Explanation: There's no way to obtain \"axc\" from \"ahbgdc\" while preserving the original order, indicating 's' is not a subsequence of 't'.\n",
        "\n",
        "# Constraints:\n",
        "# The length of 's' falls within the range of 0 to 100.\n",
        "# The length of 't' is at most 10^4.\n",
        "# Both 's' and 't' contain only lowercase English letters.\n",
        "\n",
        "def checkSubsequence(s, t):\n",
        "\n"
      ],
      "metadata": {
        "id": "a8tEFSM_iDL1"
      },
      "execution_count": null,
      "outputs": []
    },
    {
      "cell_type": "code",
      "source": [
        "# Imagine you have a list of numbers, referred to as 'nums', with a total length of 'n'.\n",
        "# Your task is to identify the dominant element in this list.\n",
        "# The dominant element is defined as the one that appears more than half the time (n / 2) in the list.\n",
        "# It is guaranteed that such an element exists in the list.\n",
        "\n",
        "# Example 1:\n",
        "# Input: nums = [3,2,3]\n",
        "# Output: 3\n",
        "\n",
        "# Example 2:\n",
        "# Input: nums = [2,2,1,1,1,2,2]\n",
        "# Output: 2\n",
        "\n",
        "# Constraints:\n",
        "# - The length of 'nums' is equal to 'n'.\n",
        "# - 'n' ranges from 1 to 50,000.\n",
        "# - Each element in 'nums' can be any integer between -1,000,000,000 and 1,000,000,000.\n",
        "\n",
        "def majorityElement(nums):\n",
        "\n"
      ],
      "metadata": {
        "id": "YhQkKPtLiHV3"
      },
      "execution_count": null,
      "outputs": []
    },
    {
      "cell_type": "code",
      "source": [
        "# In a particular email system, each email address is divided into two parts by the '@' symbol: a local part and a domain part.\n",
        "# The local part may contain periods ('.') and plus signs ('+'), but these characters are processed in a special way: periods are ignored, making 'alice.bob@codeland.com' and 'alicebob@codeland.com' equivalent, and any characters following a plus sign in the local part are disregarded, so 'charlie+spam@codetown.com' is treated as 'charlie@codetown.com'.\n",
        "# However, these special rules don't apply to the domain part of the email.\n",
        "\n",
        "# Given a list of email addresses received, your task is to calculate how many unique email addresses will actually receive the email, after applying the above simplification rules to each address in the list.\n",
        "\n",
        "# Example 1:\n",
        "# Input: emails = [\"test.email+yasin@theheadstarter.com\",\"test.e.mail+faizan.ahmed@theheadstarter.com\",\"testemail+john@the.headstarter.com\"]\n",
        "# Output: 2\n",
        "# Explanation: After simplification, both 'test.email+yasin@theheadstarter.com' and 'test.e.mail+faizan.ahmed@theheadstarter.com' become 'testemail@theheadstarter.com', while 'testemail+john@the.headstarter.com' also remains 'testemail@theheadstarter.com', so there are 2 unique emails.\n",
        "\n",
        "# Example 2:\n",
        "# Input: emails = [\"a@theheadstarter.com\",\"b@theheadstarter.com\",\"c@theheadstarter.com\"]\n",
        "# Output: 3\n",
        "# Explanation: Since none of the emails use '.' or '+', all addresses are already unique.\n",
        "\n",
        "# Constraints:\n",
        "# - The list of emails will have at least 1 and no more than 100 entries.\n",
        "# - Each email address will be between 1 to 100 characters long.\n",
        "# - Email addresses consist of lowercase English letters, '+', '.', and '@'.\n",
        "# - Each email address contains exactly one '@' character.\n",
        "# - Local parts do not start with a plus character.\n",
        "# - Domain names end with the '.com' suffix.\n",
        "\n",
        "def numUniqueEmails(emails):\n",
        "\n"
      ],
      "metadata": {
        "id": "d01NhbNliche"
      },
      "execution_count": null,
      "outputs": []
    },
    {
      "cell_type": "code",
      "source": [
        "# In this task, you are provided with a list of integers named 'nums', which is ordered in a non-decreasing sequence.\n",
        "# Your objective is to reorganize 'nums' in-place to ensure that each unique number appears only once, preserving their original order.\n",
        "# Consequently, you are required to output the count of these unique numbers found in 'nums'.\n",
        "\n",
        "# Perform your task under the following constraints and guidelines:\n",
        "# - Directly modify the 'nums' array so that the initial portion up to 'k' (the return value) contains all the unique numbers in their original sequence.\n",
        "# The content beyond 'k' in the array is inconsequential.\n",
        "# - Your primary output should be 'k', the total count of unique elements within 'nums'.\n",
        "\n",
        "# For instance:\n",
        "# Input: nums = [1,1,2]\n",
        "# Output: 2, nums = [1,2,_]\n",
        "# In this example, the method would result in 'k' being 2, signifying the presence of two unique elements which are 1 and 2, and 'nums' being modified to contain these two elements at the start.\n",
        "\n",
        "# Another example:\n",
        "# Input: nums = [0,0,1,1,1,2,2,3,3,4]\n",
        "# Output: 5, nums = [0,1,2,3,4,_,_,_,_,_]\n",
        "# Here, 'k' is 5, indicating five unique numbers (0, 1, 2, 3, 4) placed at the beginning of 'nums'.\n",
        "# The positions after 'k' are irrelevant.\n",
        "\n",
        "# Constraints:\n",
        "# - The length of 'nums' is at least 1 and at most 3 * 10^4.\n",
        "# - Each element in 'nums' can be any integer between -100 and 100.\n",
        "# - 'nums' is given in a non-decreasing order.\n",
        "\n",
        "def removeDuplicates(nums):\n",
        "\n"
      ],
      "metadata": {
        "id": "Qtr4wbNCihOf"
      },
      "execution_count": null,
      "outputs": []
    },
    {
      "cell_type": "markdown",
      "source": [
        "#Intern"
      ],
      "metadata": {
        "id": "a5DfHE2cimx1"
      }
    },
    {
      "cell_type": "code",
      "source": [
        "# A function is designed to take a list of words, called 'strs', and organize them into groups where each group consists of words that are anagrams of each other.\n",
        "# An anagram involves rearranging the letters of one word to form another word, using all the original letters exactly once.\n",
        "# The function should be able to return these groups in any sequence.\n",
        "\n",
        "# Example 1:\n",
        "# Input: strs = [\"eat\",\"tea\",\"tan\",\"ate\",\"nat\",\"bat\"]\n",
        "# Output: [[\"bat\"],[\"nat\",\"tan\"],[\"ate\",\"eat\",\"tea\"]]\n",
        "\n",
        "# Example 2:\n",
        "# Input: strs = [\"\"]\n",
        "# Output: [[\"\"]]\n",
        "\n",
        "# Example 3:\n",
        "# Input: strs = [\"a\"]\n",
        "# Output: [[\"a\"]]\n",
        "\n",
        "# Constraints:\n",
        "# - The number of words in the input list 'strs' will be at least 1 and not more than 10^4.\n",
        "# - Each word in the list 'strs' will have a length between 0 and 100.\n",
        "# - Each word will only consist of lowercase English alphabets.\n",
        "\n",
        "def categorize_word_jumbles(strs):\n",
        "\n"
      ],
      "metadata": {
        "id": "1_SAC4C9ip7U"
      },
      "execution_count": null,
      "outputs": []
    },
    {
      "cell_type": "code",
      "source": [
        "# In this scenario, you are provided with an array of integers named 'nums' and another integer 'k'.\n",
        "# Your objective is to identify the 'k' elements that appear most frequently within the 'nums' array.\n",
        "# The order in which these elements are returned does not matter.\n",
        "# Consider that the array can contain both positive and negative numbers, and the solution should be unique for the given 'k'.\n",
        "\n",
        "# Example 1:\n",
        "# Input: nums = [1,1,1,2,2,3], k = 2\n",
        "# Output: [1,2]\n",
        "\n",
        "# Example 2:\n",
        "# Input: nums = [1], k = 1\n",
        "# Output: [1]\n",
        "\n",
        "# Constraints:\n",
        "# The length of 'nums' will be at least 1 and no more than 10^5.\n",
        "# Values of 'nums' may range between -10^4 and 10^4.\n",
        "# The value of 'k' will be a positive integer, not exceeding the number of unique elements in 'nums'.\n",
        "# The answer is guaranteed to be unique under the given constraints.\n",
        "\n",
        "def mostCommonElements(nums, k):\n"
      ],
      "metadata": {
        "id": "SQ-IfvDqiul9"
      },
      "execution_count": null,
      "outputs": []
    },
    {
      "cell_type": "code",
      "source": [
        "# Consider a scenario where you're given a list of integers, referred to as 'nums'.\n",
        "# Your task is to create a new list, named 'answer', where each element at index 'i' in 'answer' represents the product of all the numbers in 'nums' excluding the number at index 'i' in 'nums'.\n",
        "# It is important to develop a method that accomplishes this in linear time, O(n), without employing division.\n",
        "# Keep in mind that the product will not exceed the storage capacity of a 32-bit integer.\n",
        "\n",
        "# Example 1:\n",
        "# Input: nums = [1,2,3,4]\n",
        "# Output: [24,12,8,6]\n",
        "\n",
        "# Example 2:\n",
        "# Input: nums = [-1,1,0,-3,3]\n",
        "# Output: [0,0,9,0,0]\n",
        "\n",
        "# Bear in mind the constraints for 'nums': its length should be at least 2 but not exceed 10^5, and each element should be between -30 and 30 inclusive.\n",
        "# The solution should efficiently handle prefixes and suffixes within the 32-bit constraint.\n",
        "\n",
        "def selfExcludedProductList(nums):\n",
        "\n"
      ],
      "metadata": {
        "id": "7SYUwRmBiz6f"
      },
      "execution_count": null,
      "outputs": []
    },
    {
      "cell_type": "code",
      "source": [
        "# Imagine you are a meteorologist tasked with predicting how soon warmer weather will arrive following each day.\n",
        "# You are provided with an array, 'temperatures', with each element representing the day's high temperature.\n",
        "# Develop a mechanism that, for each day represented in the array, indicates the number of subsequent days one must wait for a temperature rise.\n",
        "# Should no increase in temperature occur in the future, denote this with a 0 for the respective day.\n",
        "\n",
        "# Example 1:\n",
        "# Input: temperatures = [73,74,75,71,69,72,76,73]\n",
        "# Output: [1,1,4,2,1,1,0,0]\n",
        "\n",
        "# Example 2:\n",
        "# Input: temperatures = [30,40,50,60]\n",
        "# Output: [1,1,1,0]\n",
        "\n",
        "# Example 3:\n",
        "# Input: temperatures = [30,60,90]\n",
        "# Output: [1,1,0]\n",
        "\n",
        "# Constraints:\n",
        "# - The number of daily temperature readings is at least 1 and no more than 10^5.\n",
        "# - Temperatures range inclusively from 30 to 100 degrees Fahrenheit.\n",
        "\n",
        "def forecastWarmerDays(temperatures):\n",
        "\n"
      ],
      "metadata": {
        "id": "VKGoz0G3i4HY"
      },
      "execution_count": null,
      "outputs": []
    },
    {
      "cell_type": "code",
      "source": [
        "# Your task is to verify the integrity of a given 9x9 Sudoku puzzle.\n",
        "# The puzzle may be partially filled but every filled cell must comply with Sudoku's primary constraints: no digit from 1 to 9 repeats in any single row, any single column, or within any of the nine distinct 3x3 sub-grids that compose the puzzle board.\n",
        "# Please note that this validation does not confirm if the puzzle is solvable; it merely ensures that no current placements break the fundamental rules of Sudoku.\n",
        "\n",
        "# Example 1:\n",
        "# Input: board =\n",
        "# [[\"5\",\"3\",\".\",\".\",\"7\",\".\",\".\",\".\",\".\"],\n",
        "# [\"6\",\".\",\".\",\"1\",\"9\",\"5\",\".\",\".\",\".\"],\n",
        "# [\".\",\"9\",\"8\",\".\",\".\",\".\",\".\",\"6\",\".\"],\n",
        "# [\"8\",\".\",\".\",\".\",\"6\",\".\",\".\",\".\",\"3\"],\n",
        "# [\"4\",\".\",\".\",\"8\",\".\",\"3\",\".\",\".\",\"1\"],\n",
        "# [\"7\",\".\",\".\",\".\",\"2\",\".\",\".\",\".\",\"6\"],\n",
        "# [\".\",\"6\",\".\",\".\",\".\",\".\",\"2\",\"8\",\".\"],\n",
        "# [\".\",\".\",\".\",\"4\",\"1\",\"9\",\".\",\".\",\"5\"],\n",
        "# [\".\",\".\",\".\",\".\",\"8\",\".\",\".\",\"7\",\"9\"]]\n",
        "# Output: true\n",
        "\n",
        "# Example 2:\n",
        "# Input: board =\n",
        "# [[\"8\",\"3\",\".\",\".\",\"7\",\".\",\".\",\".\",\".\"],\n",
        "# [\"6\",\".\",\".\",\"1\",\"9\",\"5\",\".\",\".\",\".\"],\n",
        "# [\".\",\"9\",\"8\",\".\",\".\",\".\",\".\",\"6\",\".\"],\n",
        "# [\"8\",\".\",\".\",\".\",\"6\",\".\",\".\",\".\",\"3\"],\n",
        "# [\"4\",\".\",\".\",\"8\",\".\",\"3\",\".\",\".\",\"1\"],\n",
        "# [\"7\",\".\",\".\",\".\",\"2\",\".\",\".\",\".\",\"6\"],\n",
        "# [\".\",\"6\",\".\",\".\",\".\",\".\",\"2\",\"8\",\".\"],\n",
        "# [\".\",\".\",\".\",\"4\",\"1\",\"9\",\".\",\".\",\"5\"],\n",
        "# [\".\",\".\",\".\",\".\",\"8\",\".\",\".\",\"7\",\"9\"]]\n",
        "# Output: false\n",
        "# Explanation: Compared to Example 1, the top left 3x3 sub-grid has two '8's, contravening Sudoku rules, thus invalidating the puzzle.\n",
        "\n",
        "# Constraints:\n",
        "# - The board's dimensions are strictly 9x9.\n",
        "# - Each cell on the board is either a digit from 1 to 9 or a '.' representing an unfilled cell.\n",
        "\n",
        "def checkSudokuValidity(board):\n",
        "\n"
      ],
      "metadata": {
        "id": "a7WOKQBoi8_T"
      },
      "execution_count": null,
      "outputs": []
    },
    {
      "cell_type": "markdown",
      "source": [
        "##Pro"
      ],
      "metadata": {
        "id": "b2yRmjnvjINP"
      }
    },
    {
      "cell_type": "code",
      "source": [
        "# Imagine you're given a bag of numbered tiles that are randomly numbered, and your task is to arrange these tiles in a way that forms the longest possible chain of consecutive numbers.\n",
        "# Some numbers may be repeated or missing, but each number can only be used once in the chain.\n",
        "# Your objective is to determine the length of this longest chain of consecutive numbers.\n",
        "# For an efficient solution, your method should have a runtime complexity of O(n), where n is the number of tiles.\n",
        "\n",
        "# Example 1:\n",
        "# Input: nums = [100,4,200,1,3,2]\n",
        "# Output: 4\n",
        "# Explanation: Arranging the tiles as [1, 2, 3, 4] forms the longest chain of consecutive numbers with a length of 4.\n",
        "\n",
        "# Example 2:\n",
        "# Input: nums = [0,3,7,2,5,8,4,6,0,1]\n",
        "# Output: 9\n",
        "\n",
        "# Constraints:\n",
        "# The number of tiles, n, is such that 0 <= n <= 10^5.\n",
        "# Each tile's number will be an integer in the range from -10^9 to 10^9.\n",
        "\n",
        "def longestConsecutiveChain(nums):\n",
        "\n"
      ],
      "metadata": {
        "id": "X7U8j0ZUjBq2"
      },
      "execution_count": null,
      "outputs": []
    },
    {
      "cell_type": "code",
      "source": [
        "# Imagine you're a day trader who's trying to maximize their profits from trading a single stock.\n",
        "# Every day, you have the option to buy or sell shares of this stock, but you can only hold a single share at any given moment.\n",
        "# Interestingly, you are also allowed to engage in same-day buying and selling.\n",
        "# Your goal is to determine the maximum profit you can achieve from these transactions, given the daily stock prices.\n",
        "\n",
        "# Example 1:\n",
        "# Input: prices = [7,1,5,3,6,4]\n",
        "# Output: 7\n",
        "# Explanation: Purchase on day 2 (price = 1) and sell on day 3 (price = 5), profit = 4.\n",
        "# Next, buy on day 4 (price = 3) and sell on day 5 (price = 6), profit = 3.\n",
        "# Total profit = 4 + 3 = 7.\n",
        "\n",
        "# Example 2:\n",
        "# Input: prices = [1,2,3,4,5]\n",
        "# Output: 4\n",
        "# Explanation: Buy on day 1 (price = 1) and sell on day 5 (price = 5), gaining a profit of 4.\n",
        "# Total profit = 4.\n",
        "\n",
        "# Example 3:\n",
        "# Input: prices = [7,6,4,3,1]\n",
        "# Output: 0\n",
        "# Explanation: It's not possible to achieve positive profit under these conditions, hence maximum profit = 0.\n",
        "\n",
        "# Constraints:\n",
        "# - You're provided with an array named 'prices', where prices[i] represents the stock's price on the i-th day.\n",
        "# - The length of 'prices' will be at least 1 and no more than 30,000.\n",
        "# - Each price within the 'prices' array will be a non-negative integer, not exceeding 10,000.\n",
        "\n",
        "def maximizeTradingProfits(prices):\n",
        "\n"
      ],
      "metadata": {
        "id": "VnDWOAwYjRPB"
      },
      "execution_count": null,
      "outputs": []
    },
    {
      "cell_type": "code",
      "source": [
        "# Given an array called 'nums' consisting of n elements that represent colors using integers (where 0 denotes red, 1 denotes white, and 2 denotes blue), your task is to rearrange the elements in 'nums' so that they're sorted by color.\n",
        "# The colors should be grouped together and arranged in the sequence of red, white, and blue.\n",
        "# It's critical to perform this sorting operation in-place, without using any built-in sorting functions.\n",
        "\n",
        "# Example 1:\n",
        "# Input: nums = [2,0,2,1,1,0]\n",
        "# Output: [0,0,1,1,2,2]\n",
        "\n",
        "# Example 2:\n",
        "# Input: nums = [2,0,1]\n",
        "# Output: [0,1,2]\n",
        "\n",
        "# Constraints:\n",
        "# - The variable n equals the length of the array 'nums'.\n",
        "# - 1 <= n <= 300\n",
        "# - Each element in 'nums' is an integer that can only be 0, 1, or 2.\n",
        "\n",
        "def sortColorSequence(nums):\n",
        "\n"
      ],
      "metadata": {
        "id": "OPaB0TOljU_s"
      },
      "execution_count": null,
      "outputs": []
    }
  ]
}
{
  "nbformat": 4,
  "nbformat_minor": 0,
  "metadata": {
    "colab": {
      "provenance": []
    },
    "kernelspec": {
      "name": "python3",
      "display_name": "Python 3"
    },
    "language_info": {
      "name": "python"
    }
  },
  "cells": [
    {
      "cell_type": "markdown",
      "source": [
        "\n",
        "# Python Basics"
      ],
      "metadata": {
        "id": "Go4XE8AmgSOx"
      }
    },
    {
      "cell_type": "markdown",
      "source": [
        "## Rook"
      ],
      "metadata": {
        "id": "7_G0ZgQlgPBp"
      }
    },
    {
      "cell_type": "code",
      "execution_count": null,
      "metadata": {
        "id": "XTnvLmC4euxY"
      },
      "outputs": [],
      "source": [
        "# Write a function to return the sum of the numbers in the given array 'nums', except ignore sections of numbers starting with a 7 and extending to the next 8 (every 7 will be followed by at least one 8).\n",
        "# Return 0 for no numbers.\n",
        "\n",
        "# sum78([1, 2, 2]) → 5\n",
        "# sum78([1, 2, 2, 7, 99, 99, 8]) → 5\n",
        "# sum78([1, 1, 7, 8, 2]) → 4\n",
        "\n",
        "def sum78(nums):"
      ]
    },
    {
      "cell_type": "code",
      "source": [
        "# Given an array length 1 or more of ints, return the difference between the largest and smallest values in the array.\n",
        "\n",
        "# biggest_diff([10, 3, 5, 6]) → 7\n",
        "# biggest_diff([7, 2, 10, 9]) → 8\n",
        "# biggest_diff([2, 10, 7, 2]) → 8\n",
        "\n",
        "def biggest_diff(nums):\n",
        "\n"
      ],
      "metadata": {
        "id": "1GTJiwJ8e58l"
      },
      "execution_count": null,
      "outputs": []
    },
    {
      "cell_type": "code",
      "source": [
        "# Return True if the string \"cat\" and \"dog\" appear the same number of times in the given string.\n",
        "\n",
        "# cat_dog('catdog') → True\n",
        "# cat_dog('catcat') → False\n",
        "# cat_dog('1cat1cadodog') → True\n",
        "\n",
        "def cat_dog(s):\n",
        "\n"
      ],
      "metadata": {
        "id": "jiKLynsBe9Nn"
      },
      "execution_count": null,
      "outputs": []
    },
    {
      "cell_type": "code",
      "source": [
        "# Given three ints, a b c, one of them is small, one is medium and one is large.\n",
        "# Return true if the three values are evenly spaced, so the difference between small and medium is the same as the difference between medium and large.\n",
        "\n",
        "# evenlySpaced(2, 4, 6) → true\n",
        "# evenlySpaced(4, 6, 2) → true\n",
        "# evenlySpaced(4, 6, 3) → false\n",
        "\n",
        "def evenlySpaced(a, b, c):\n",
        "\n"
      ],
      "metadata": {
        "id": "QDqCxp6BfBYl"
      },
      "execution_count": null,
      "outputs": []
    },
    {
      "cell_type": "code",
      "source": [
        "# Given an input string, return the number of times that the string \"code\" appears anywhere in the string, except we'll accept any letter for the 'd', so \"cope\" and \"cooe\" count.\n",
        "\n",
        "# count_code('aaacodebbb') → 1\n",
        "# count_code('codexxcode') → 2\n",
        "# count_code('cozexxcope') → 2\n",
        "\n",
        "def count_code(s):\n",
        "\n"
      ],
      "metadata": {
        "id": "C0bNbHp0fGmz"
      },
      "execution_count": null,
      "outputs": []
    },
    {
      "cell_type": "code",
      "source": [
        "# Given an array of scores sorted in increasing order, return true if the array contains 3 adjacent scores that differ from each other by at most 2, such as with [3, 4, 5] or [3, 5, 5]\n",
        "\n",
        "# scoresClump([3, 4, 5]) → true\n",
        "# scoresClump([3, 4, 6]) → false\n",
        "# scoresClump([1, 3, 5, 5]) → true\n",
        "\n",
        "\n",
        "def scoresClump(scores):"
      ],
      "metadata": {
        "id": "KA3WEZiifBiM"
      },
      "execution_count": null,
      "outputs": []
    },
    {
      "cell_type": "code",
      "source": [
        "# Given a list of non-negative integers, return a list of those numbers multiplied by 2, omitting any of the resulting numbers that end in 2.\n",
        "\n",
        "# two2([1, 2, 3]) → [4, 6]\n",
        "# two2([2, 6, 11]) → [4]\n",
        "# two2([0]) → [0]\n",
        "\n",
        "def two2(nums):\n",
        "\n"
      ],
      "metadata": {
        "id": "Sfby_FMzfBpO"
      },
      "execution_count": null,
      "outputs": []
    },
    {
      "cell_type": "markdown",
      "source": [
        "## Intern\n"
      ],
      "metadata": {
        "id": "8XcO4wxefSAa"
      }
    },
    {
      "cell_type": "code",
      "source": [
        "# Write a function to round an int value up to the next multiple of 10 if its rightmost digit is 5 or more.\n",
        "# So 15 rounds up to 20, and 6 rounds up to 10. Alternately, round down to the previous multiple of 10 if its rightmost digit is less than 5, so 12 rounds down to 10.\n",
        "# Given 3 ints, a b c, return the sum of their rounded values.\n",
        "\n",
        "# round_sum(16, 17, 18) → 60\n",
        "# round_sum(12, 13, 14) → 30\n",
        "# round_sum(6, 4, 4) → 10\n",
        "\n",
        "def round_sum(a, b, c):\n",
        "\n"
      ],
      "metadata": {
        "id": "tooTAmYgffX7"
      },
      "execution_count": null,
      "outputs": []
    },
    {
      "cell_type": "code",
      "source": [
        "# We want to make a row of bricks that is goal inches long.\n",
        "# We have a number of small bricks (1 inch each) and big bricks (5 inches each).\n",
        "# Return True if it is possible to make the goal by choosing from the given bricks.\n",
        "\n",
        "# make_bricks(3, 1, 8) → True\n",
        "# make_bricks(3, 1, 9) → False\n",
        "# make_bricks(3, 2, 10) → True\n",
        "\n",
        "def make_bricks(small, big, goal):"
      ],
      "metadata": {
        "id": "fqxU0-voflWJ"
      },
      "execution_count": null,
      "outputs": []
    },
    {
      "cell_type": "code",
      "source": [
        "# We want make a package of goal kilos of chocolate. We have small bars (1 kilo each) and big bars (5 kilos each).\n",
        "# Return the number of small bars to use, assuming we always use big bars before small bars. Return -1 if it can't be done.\n",
        "\n",
        "# make_chocolate(4, 1, 9) → 4\n",
        "# make_chocolate(4, 1, 10) → -1\n",
        "# make_chocolate(4, 1, 7) → 2\n",
        "\n",
        "def make_chocolate(small, big, goal):\n",
        "\n"
      ],
      "metadata": {
        "id": "405yJrBGfr74"
      },
      "execution_count": null,
      "outputs": []
    },
    {
      "cell_type": "code",
      "source": [
        "# Lets say that a value is \"everywhere\" in an array if for every pair of adjacent elements in the array, at least one of the pair is that value.\n",
        "# Return true if the given value is everywhere in the array.\n",
        "\n",
        "# isEverywhere([1, 2, 1, 3], 1) → true\n",
        "# isEverywhere([1, 2, 1, 3], 2) → false\n",
        "# isEverywhere([1, 2, 1, 3, 4], 1) → false\n",
        "\n",
        "def isEverywhere(nums, val):\n",
        "\n"
      ],
      "metadata": {
        "id": "KDGcmVxpf2cQ"
      },
      "execution_count": null,
      "outputs": []
    },
    {
      "cell_type": "markdown",
      "source": [
        "## Pro"
      ],
      "metadata": {
        "id": "4f-d5Tnff8XE"
      }
    },
    {
      "cell_type": "code",
      "source": [
        "# Given an array of ints, return a boolean to determine if it is possible to divide the ints into two groups, so that the sums of the two groups are the same.\n",
        "# Every int must be in one group or the other. Write a recursive helper method that takes whatever arguments you like, and make the initial call to your recursive helper from splitArray().\n",
        "\n",
        "# splitArray([2, 2]) → true\n",
        "# splitArray([2, 3]) → false\n",
        "# splitArray([5, 2, 3]) → true\n",
        "\n",
        "def splitArray(nums):\n",
        "\n"
      ],
      "metadata": {
        "id": "KnDd682lgAFN"
      },
      "execution_count": null,
      "outputs": []
    },
    {
      "cell_type": "code",
      "source": [
        "# Given an array of ints, determine if it is possible to choose a group of some of the ints, such that the group sums to the given target with this additional constraint: If a value in the array is chosen to be in the group, the value immediately following it in the array must not be chosen.\n",
        "\n",
        "# groupNoAdj(0, [2, 5, 10, 4], 12) → true\n",
        "# groupNoAdj(0, [2, 5, 10, 4], 14) → false\n",
        "# groupNoAdj(0, [2, 5, 10, 4], 7) → false\n",
        "\n",
        "def groupNoAdj(start, nums, target):\n",
        "\n"
      ],
      "metadata": {
        "id": "IKHGlh8zgAOT"
      },
      "execution_count": null,
      "outputs": []
    },
    {
      "cell_type": "code",
      "source": [
        "# We'll say that a \"mirror\" section in an array is a group of contiguous elements such that somewhere in the array, the same group appears in reverse order.\n",
        "# For example, the largest mirror section in {1, 2, 3, 8, 9, 3, 2, 1} is length 3 (the {1, 2, 3} part). Return the size of the largest mirror section found in the given array.\n",
        "\n",
        "# maxMirror([1, 2, 3, 8, 9, 3, 2, 1]) → 3\n",
        "# maxMirror([1, 2, 1, 4]) → 3\n",
        "# maxMirror([7, 1, 2, 9, 7, 2, 1]) → 2\n",
        "\n",
        "def maxMirror(arr):\n",
        "\n"
      ],
      "metadata": {
        "id": "eDxqXCcIgAWT"
      },
      "execution_count": null,
      "outputs": []
    }
  ]
}